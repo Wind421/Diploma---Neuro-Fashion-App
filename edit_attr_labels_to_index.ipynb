{
 "cells": [
  {
   "cell_type": "code",
   "execution_count": 1,
   "metadata": {},
   "outputs": [],
   "source": [
    "import pandas as pd\n",
    "import numpy as np"
   ]
  },
  {
   "cell_type": "code",
   "execution_count": 2,
   "metadata": {},
   "outputs": [],
   "source": [
    "path_labels = np.load(r'D:\\jupyter\\Diploma\\edit_base\\attr_img_new.npy',allow_pickle=True)\n",
    "df = pd.DataFrame(path_labels, columns=['path','label'])"
   ]
  },
  {
   "cell_type": "code",
   "execution_count": 3,
   "metadata": {},
   "outputs": [],
   "source": [
    "df['label'] = df['label'].str.replace('  ', ' ')"
   ]
  },
  {
   "cell_type": "code",
   "execution_count": 70,
   "metadata": {},
   "outputs": [
    {
     "name": "stdout",
     "output_type": "stream",
     "text": [
      "-1: 1000\n"
     ]
    }
   ],
   "source": [
    "\"\"\" list_my = df.loc[41, 'label'].split(' ')\n",
    "count_dict = {}\n",
    "for value in list_my:\n",
    "    if value in count_dict:\n",
    "        count_dict[value] += 1\n",
    "    else:\n",
    "        count_dict[value] = 1\n",
    "\n",
    "for key, value in count_dict.items():\n",
    "    print(f\"{key}: {value}\") \"\"\""
   ]
  },
  {
   "cell_type": "code",
   "execution_count": 5,
   "metadata": {},
   "outputs": [
    {
     "data": {
      "text/html": [
       "<div>\n",
       "<style scoped>\n",
       "    .dataframe tbody tr th:only-of-type {\n",
       "        vertical-align: middle;\n",
       "    }\n",
       "\n",
       "    .dataframe tbody tr th {\n",
       "        vertical-align: top;\n",
       "    }\n",
       "\n",
       "    .dataframe thead th {\n",
       "        text-align: right;\n",
       "    }\n",
       "</style>\n",
       "<table border=\"1\" class=\"dataframe\">\n",
       "  <thead>\n",
       "    <tr style=\"text-align: right;\">\n",
       "      <th></th>\n",
       "      <th>path</th>\n",
       "      <th>label</th>\n",
       "    </tr>\n",
       "  </thead>\n",
       "  <tbody>\n",
       "    <tr>\n",
       "      <th>289217</th>\n",
       "      <td>C:/Users/USRx/Desktop/Daria/img_highres/Paisle...</td>\n",
       "      <td>30,681,682,730</td>\n",
       "    </tr>\n",
       "    <tr>\n",
       "      <th>289218</th>\n",
       "      <td>C:/Users/USRx/Desktop/Daria/img_highres/Paisle...</td>\n",
       "      <td>275,681</td>\n",
       "    </tr>\n",
       "    <tr>\n",
       "      <th>289219</th>\n",
       "      <td>C:/Users/USRx/Desktop/Daria/img_highres/Paisle...</td>\n",
       "      <td>30,681</td>\n",
       "    </tr>\n",
       "    <tr>\n",
       "      <th>289220</th>\n",
       "      <td>C:/Users/USRx/Desktop/Daria/img_highres/Paisle...</td>\n",
       "      <td>30,681,682,730</td>\n",
       "    </tr>\n",
       "    <tr>\n",
       "      <th>289221</th>\n",
       "      <td>C:/Users/USRx/Desktop/Daria/img_highres/Paisle...</td>\n",
       "      <td>30,681,760,880</td>\n",
       "    </tr>\n",
       "  </tbody>\n",
       "</table>\n",
       "</div>"
      ],
      "text/plain": [
       "                                                     path           label\n",
       "289217  C:/Users/USRx/Desktop/Daria/img_highres/Paisle...  30,681,682,730\n",
       "289218  C:/Users/USRx/Desktop/Daria/img_highres/Paisle...         275,681\n",
       "289219  C:/Users/USRx/Desktop/Daria/img_highres/Paisle...          30,681\n",
       "289220  C:/Users/USRx/Desktop/Daria/img_highres/Paisle...  30,681,682,730\n",
       "289221  C:/Users/USRx/Desktop/Daria/img_highres/Paisle...  30,681,760,880"
      ]
     },
     "execution_count": 5,
     "metadata": {},
     "output_type": "execute_result"
    }
   ],
   "source": [
    "for i in range(df.shape[0]):\n",
    "    numbers = df.loc[i, 'label'].split(' ')\n",
    "    positive_one_indices = []\n",
    "    for j, num in enumerate(numbers):\n",
    "        if num.strip(): \n",
    "            if int(num) == 1: \n",
    "                positive_one_indices.append(j)\n",
    "    result_string = ','.join(map(str, positive_one_indices))  \n",
    "    df.loc[i, 'label'] = result_string  \n",
    "df.tail()"
   ]
  },
  {
   "cell_type": "code",
   "execution_count": 6,
   "metadata": {},
   "outputs": [],
   "source": [
    "df['label'] = df['label'].replace('', '1000')"
   ]
  },
  {
   "cell_type": "code",
   "execution_count": 7,
   "metadata": {},
   "outputs": [
    {
     "data": {
      "text/html": [
       "<div>\n",
       "<style scoped>\n",
       "    .dataframe tbody tr th:only-of-type {\n",
       "        vertical-align: middle;\n",
       "    }\n",
       "\n",
       "    .dataframe tbody tr th {\n",
       "        vertical-align: top;\n",
       "    }\n",
       "\n",
       "    .dataframe thead th {\n",
       "        text-align: right;\n",
       "    }\n",
       "</style>\n",
       "<table border=\"1\" class=\"dataframe\">\n",
       "  <thead>\n",
       "    <tr style=\"text-align: right;\">\n",
       "      <th></th>\n",
       "      <th>path</th>\n",
       "      <th>label</th>\n",
       "    </tr>\n",
       "  </thead>\n",
       "  <tbody>\n",
       "    <tr>\n",
       "      <th>10</th>\n",
       "      <td>C:/Users/USRx/Desktop/Daria/img_highres/Sheer_...</td>\n",
       "      <td>1000</td>\n",
       "    </tr>\n",
       "    <tr>\n",
       "      <th>41</th>\n",
       "      <td>C:/Users/USRx/Desktop/Daria/img_highres/Sheer_...</td>\n",
       "      <td>1000</td>\n",
       "    </tr>\n",
       "    <tr>\n",
       "      <th>51</th>\n",
       "      <td>C:/Users/USRx/Desktop/Daria/img_highres/Sheer_...</td>\n",
       "      <td>1000</td>\n",
       "    </tr>\n",
       "    <tr>\n",
       "      <th>62</th>\n",
       "      <td>C:/Users/USRx/Desktop/Daria/img_highres/Sheer_...</td>\n",
       "      <td>1000</td>\n",
       "    </tr>\n",
       "    <tr>\n",
       "      <th>73</th>\n",
       "      <td>C:/Users/USRx/Desktop/Daria/img_highres/Sheer_...</td>\n",
       "      <td>1000</td>\n",
       "    </tr>\n",
       "    <tr>\n",
       "      <th>...</th>\n",
       "      <td>...</td>\n",
       "      <td>...</td>\n",
       "    </tr>\n",
       "    <tr>\n",
       "      <th>288862</th>\n",
       "      <td>C:/Users/USRx/Desktop/Daria/img_highres/Cutout...</td>\n",
       "      <td>1000</td>\n",
       "    </tr>\n",
       "    <tr>\n",
       "      <th>288948</th>\n",
       "      <td>C:/Users/USRx/Desktop/Daria/img_highres/Cutout...</td>\n",
       "      <td>1000</td>\n",
       "    </tr>\n",
       "    <tr>\n",
       "      <th>288959</th>\n",
       "      <td>C:/Users/USRx/Desktop/Daria/img_highres/Cutout...</td>\n",
       "      <td>1000</td>\n",
       "    </tr>\n",
       "    <tr>\n",
       "      <th>289131</th>\n",
       "      <td>C:/Users/USRx/Desktop/Daria/img_highres/Paisle...</td>\n",
       "      <td>1000</td>\n",
       "    </tr>\n",
       "    <tr>\n",
       "      <th>289132</th>\n",
       "      <td>C:/Users/USRx/Desktop/Daria/img_highres/Paisle...</td>\n",
       "      <td>1000</td>\n",
       "    </tr>\n",
       "  </tbody>\n",
       "</table>\n",
       "<p>12969 rows × 2 columns</p>\n",
       "</div>"
      ],
      "text/plain": [
       "                                                     path label\n",
       "10      C:/Users/USRx/Desktop/Daria/img_highres/Sheer_...  1000\n",
       "41      C:/Users/USRx/Desktop/Daria/img_highres/Sheer_...  1000\n",
       "51      C:/Users/USRx/Desktop/Daria/img_highres/Sheer_...  1000\n",
       "62      C:/Users/USRx/Desktop/Daria/img_highres/Sheer_...  1000\n",
       "73      C:/Users/USRx/Desktop/Daria/img_highres/Sheer_...  1000\n",
       "...                                                   ...   ...\n",
       "288862  C:/Users/USRx/Desktop/Daria/img_highres/Cutout...  1000\n",
       "288948  C:/Users/USRx/Desktop/Daria/img_highres/Cutout...  1000\n",
       "288959  C:/Users/USRx/Desktop/Daria/img_highres/Cutout...  1000\n",
       "289131  C:/Users/USRx/Desktop/Daria/img_highres/Paisle...  1000\n",
       "289132  C:/Users/USRx/Desktop/Daria/img_highres/Paisle...  1000\n",
       "\n",
       "[12969 rows x 2 columns]"
      ]
     },
     "execution_count": 7,
     "metadata": {},
     "output_type": "execute_result"
    }
   ],
   "source": [
    "df[df['label'].str.contains('1000')]"
   ]
  },
  {
   "cell_type": "code",
   "execution_count": 8,
   "metadata": {},
   "outputs": [],
   "source": [
    "df = df.to_numpy()"
   ]
  },
  {
   "cell_type": "code",
   "execution_count": 9,
   "metadata": {},
   "outputs": [],
   "source": [
    "np.save(r'D:\\jupyter\\Diploma\\FinalFolder\\attr_img_new_shorted.npy',df)"
   ]
  }
 ],
 "metadata": {
  "kernelspec": {
   "display_name": "Python 3",
   "language": "python",
   "name": "python3"
  },
  "language_info": {
   "codemirror_mode": {
    "name": "ipython",
    "version": 3
   },
   "file_extension": ".py",
   "mimetype": "text/x-python",
   "name": "python",
   "nbconvert_exporter": "python",
   "pygments_lexer": "ipython3",
   "version": "3.11.3"
  }
 },
 "nbformat": 4,
 "nbformat_minor": 2
}
