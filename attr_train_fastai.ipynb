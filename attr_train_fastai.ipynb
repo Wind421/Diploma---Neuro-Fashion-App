{
 "cells": [
  {
   "cell_type": "code",
   "execution_count": 1,
   "metadata": {},
   "outputs": [],
   "source": [
    "import torch\n",
    "from fastai.vision.all import *\n",
    "import gc \n",
    "import numpy as np\n",
    "import pandas as pd\n",
    "import os\n",
    "from PIL import Image\n",
    "import PIL\n",
    "PIL.Image.MAX_IMAGE_PIXELS = None\n",
    "\n",
    "import torch\n",
    "import torch.nn.functional as F\n",
    "from torch import nn"
   ]
  },
  {
   "cell_type": "code",
   "execution_count": 2,
   "metadata": {},
   "outputs": [],
   "source": [
    "path_labels = np.load('C:/Users/USRx/Desktop/Daria/attr_img_shorted_delattr.npy',allow_pickle=True)\n",
    "df = pd.DataFrame(path_labels, columns=['path','label'])"
   ]
  },
  {
   "cell_type": "code",
   "execution_count": 3,
   "metadata": {},
   "outputs": [],
   "source": [
    "df['path'] = df['path'].apply(lambda x: os.path.normpath(x))\n",
    "df['path'] = df['path']+'.jpg'"
   ]
  },
  {
   "cell_type": "code",
   "execution_count": 4,
   "metadata": {},
   "outputs": [
    {
     "data": {
      "text/plain": [
       "(289222, 2)"
      ]
     },
     "execution_count": 4,
     "metadata": {},
     "output_type": "execute_result"
    }
   ],
   "source": [
    "df.shape"
   ]
  },
  {
   "cell_type": "code",
   "execution_count": 5,
   "metadata": {},
   "outputs": [
    {
     "data": {
      "text/plain": [
       "\" dblock = DataBlock(\\n    blocks=(ImageBlock,MultiCategoryBlock),\\n    splitter=RandomSplitter(valid_pct=0.3,seed=42),\\n    get_x=ColReader('path'),\\n    get_y=ColReader('label',label_delim=','),\\n    item_tfms = Resize(224),\\n    batch_tfms=aug_transforms(size=224)\\n)\\ndls = dblock.dataloaders(df, bs=64,shuffle=True) \""
      ]
     },
     "execution_count": 5,
     "metadata": {},
     "output_type": "execute_result"
    }
   ],
   "source": [
    "\"\"\" dblock = DataBlock(\n",
    "    blocks=(ImageBlock,MultiCategoryBlock),\n",
    "    splitter=RandomSplitter(valid_pct=0.3,seed=42),\n",
    "    get_x=ColReader('path'),\n",
    "    get_y=ColReader('label',label_delim=','),\n",
    "    item_tfms = Resize(224),\n",
    "    batch_tfms=aug_transforms(size=224)\n",
    ")\n",
    "dls = dblock.dataloaders(df, bs=64,shuffle=True) \"\"\""
   ]
  },
  {
   "cell_type": "code",
   "execution_count": 6,
   "metadata": {},
   "outputs": [
    {
     "data": {
      "text/plain": [
       "\" wd = 5e-7\\nopt_func = partial(ranger, wd=wd)\\nmetrics=[FBetaMulti(2.0, 0.2, average='samples'), partial(accuracy_multi, thresh=0.2)] \""
      ]
     },
     "execution_count": 6,
     "metadata": {},
     "output_type": "execute_result"
    }
   ],
   "source": [
    "\"\"\" wd = 5e-7\n",
    "opt_func = partial(ranger, wd=wd)\n",
    "metrics=[FBetaMulti(2.0, 0.2, average='samples'), partial(accuracy_multi, thresh=0.2)] \"\"\""
   ]
  },
  {
   "cell_type": "code",
   "execution_count": 7,
   "metadata": {},
   "outputs": [
    {
     "data": {
      "text/plain": [
       "' learn = vision_learner(dls, resnet34, loss_func=BCEWithLogitsLossFlat(), metrics=metrics, opt_func=opt_func).to_fp16()\\nlearn.fine_tune(10)\\nlearn = vision_learner(dls, resnet50, loss_func=BCEWithLogitsLossFlat(thresh=0.2), metrics=metrics, opt_func=opt_func).to_fp16()\\nlearn.fine_tune(10)\\nlearn = vision_learner(dls, mobilenet_v3_large, loss_func=BCEWithLogitsLossFlat(thresh=0.2), metrics=metrics, opt_func=opt_func).to_fp16()\\nlearn.fine_tune(10) '"
      ]
     },
     "execution_count": 7,
     "metadata": {},
     "output_type": "execute_result"
    }
   ],
   "source": [
    "\"\"\" learn = vision_learner(dls, resnet34, loss_func=BCEWithLogitsLossFlat(), metrics=metrics, opt_func=opt_func).to_fp16()\n",
    "learn.fine_tune(10)\n",
    "learn = vision_learner(dls, resnet50, loss_func=BCEWithLogitsLossFlat(thresh=0.2), metrics=metrics, opt_func=opt_func).to_fp16()\n",
    "learn.fine_tune(10)\n",
    "learn = vision_learner(dls, mobilenet_v3_large, loss_func=BCEWithLogitsLossFlat(thresh=0.2), metrics=metrics, opt_func=opt_func).to_fp16()\n",
    "learn.fine_tune(10) \"\"\""
   ]
  },
  {
   "cell_type": "markdown",
   "metadata": {},
   "source": [
    "BCEWithLogitsLossFlat + все оптимизаторы"
   ]
  },
  {
   "cell_type": "code",
   "execution_count": 8,
   "metadata": {},
   "outputs": [
    {
     "data": {
      "text/plain": [
       "' learn = vision_learner(dls, resnet50, loss_func=BCEWithLogitsLossFlat(thresh=0.2), metrics=metrics, opt_func=partial(Adam, wd=wd)).to_fp16()\\nlearn.fine_tune(3)'"
      ]
     },
     "execution_count": 8,
     "metadata": {},
     "output_type": "execute_result"
    }
   ],
   "source": [
    "\"\"\" learn = vision_learner(dls, resnet50, loss_func=BCEWithLogitsLossFlat(thresh=0.2), metrics=metrics, opt_func=partial(Adam, wd=wd)).to_fp16()\n",
    "learn.fine_tune(3)\"\"\""
   ]
  },
  {
   "cell_type": "code",
   "execution_count": 9,
   "metadata": {},
   "outputs": [
    {
     "data": {
      "text/plain": [
       "' learn = vision_learner(dls, resnet50, loss_func=BCEWithLogitsLossFlat(thresh=0.2), metrics=metrics, opt_func=partial(RMSProp, wd=wd)).to_fp16()\\nlearn.fine_tune(3) '"
      ]
     },
     "execution_count": 9,
     "metadata": {},
     "output_type": "execute_result"
    }
   ],
   "source": [
    "\"\"\" learn = vision_learner(dls, resnet50, loss_func=BCEWithLogitsLossFlat(thresh=0.2), metrics=metrics, opt_func=partial(RMSProp, wd=wd)).to_fp16()\n",
    "learn.fine_tune(3) \"\"\""
   ]
  },
  {
   "cell_type": "code",
   "execution_count": 10,
   "metadata": {},
   "outputs": [
    {
     "data": {
      "text/plain": [
       "'learn = vision_learner(dls, resnet50, loss_func=BCEWithLogitsLossFlat(thresh=0.2), metrics=metrics, opt_func=partial(ranger, wd=wd)).to_fp16()\\nlearn.fine_tune(3) '"
      ]
     },
     "execution_count": 10,
     "metadata": {},
     "output_type": "execute_result"
    }
   ],
   "source": [
    "\"\"\"learn = vision_learner(dls, resnet50, loss_func=BCEWithLogitsLossFlat(thresh=0.2), metrics=metrics, opt_func=partial(ranger, wd=wd)).to_fp16()\n",
    "learn.fine_tune(3) \"\"\""
   ]
  },
  {
   "cell_type": "markdown",
   "metadata": {},
   "source": [
    "CustomCrossEntropyLoss + все оптимизаторы"
   ]
  },
  {
   "cell_type": "code",
   "execution_count": 11,
   "metadata": {},
   "outputs": [],
   "source": [
    "class CustomCrossEntropyLoss(nn.Module):\n",
    "    def __init__(self):\n",
    "        super(CustomCrossEntropyLoss, self).__init__()\n",
    "\n",
    "    def forward(self, preds, targets):\n",
    "        # Targets are in one-hot encoding\n",
    "        log_preds = F.log_softmax(preds, dim=1)\n",
    "        loss = -torch.sum(log_preds * targets, dim=1).mean()\n",
    "        return loss"
   ]
  },
  {
   "cell_type": "code",
   "execution_count": 12,
   "metadata": {},
   "outputs": [
    {
     "data": {
      "text/plain": [
       "' learn = vision_learner(dls, resnet50, loss_func=CustomCrossEntropyLoss(), metrics=metrics, opt_func=partial(Adam, wd=wd)).to_fp16()\\nlearn.fine_tune(3) '"
      ]
     },
     "execution_count": 12,
     "metadata": {},
     "output_type": "execute_result"
    }
   ],
   "source": [
    "\"\"\" learn = vision_learner(dls, resnet50, loss_func=CustomCrossEntropyLoss(), metrics=metrics, opt_func=partial(Adam, wd=wd)).to_fp16()\n",
    "learn.fine_tune(3) \"\"\""
   ]
  },
  {
   "cell_type": "code",
   "execution_count": 13,
   "metadata": {},
   "outputs": [
    {
     "data": {
      "text/plain": [
       "' learn = vision_learner(dls, resnet50, loss_func=CustomCrossEntropyLoss(), metrics=metrics, opt_func=partial(RMSProp, wd=wd)).to_fp16()\\nlearn.fine_tune(3) '"
      ]
     },
     "execution_count": 13,
     "metadata": {},
     "output_type": "execute_result"
    }
   ],
   "source": [
    "\"\"\" learn = vision_learner(dls, resnet50, loss_func=CustomCrossEntropyLoss(), metrics=metrics, opt_func=partial(RMSProp, wd=wd)).to_fp16()\n",
    "learn.fine_tune(3) \"\"\""
   ]
  },
  {
   "cell_type": "code",
   "execution_count": 14,
   "metadata": {},
   "outputs": [
    {
     "data": {
      "text/plain": [
       "' learn = vision_learner(dls, resnet50, loss_func=CustomCrossEntropyLoss(), metrics=metrics, opt_func=partial(ranger, wd=wd)).to_fp16()\\nlearn.fine_tune(3) '"
      ]
     },
     "execution_count": 14,
     "metadata": {},
     "output_type": "execute_result"
    }
   ],
   "source": [
    "\"\"\" learn = vision_learner(dls, resnet50, loss_func=CustomCrossEntropyLoss(), metrics=metrics, opt_func=partial(ranger, wd=wd)).to_fp16()\n",
    "learn.fine_tune(3) \"\"\""
   ]
  },
  {
   "cell_type": "markdown",
   "metadata": {},
   "source": [
    "FocalLoss + оптимизаторы"
   ]
  },
  {
   "cell_type": "code",
   "execution_count": 15,
   "metadata": {},
   "outputs": [
    {
     "data": {
      "text/plain": [
       "' learn = vision_learner(dls, resnet50, loss_func=FocalLoss(), metrics=metrics, opt_func=partial(Adam, wd=wd)).to_fp16()\\nlearn.fine_tune(3) '"
      ]
     },
     "execution_count": 15,
     "metadata": {},
     "output_type": "execute_result"
    }
   ],
   "source": [
    "\"\"\" learn = vision_learner(dls, resnet50, loss_func=FocalLoss(), metrics=metrics, opt_func=partial(Adam, wd=wd)).to_fp16()\n",
    "learn.fine_tune(3) \"\"\""
   ]
  },
  {
   "cell_type": "code",
   "execution_count": 16,
   "metadata": {},
   "outputs": [
    {
     "data": {
      "text/plain": [
       "' learn_2 = vision_learner(dls, resnet50, loss_func=FocalLoss(), metrics=metrics, opt_func=partial(RMSProp, wd=wd)).to_fp16()\\nlearn_2.fine_tune(3) '"
      ]
     },
     "execution_count": 16,
     "metadata": {},
     "output_type": "execute_result"
    }
   ],
   "source": [
    "\"\"\" learn_2 = vision_learner(dls, resnet50, loss_func=FocalLoss(), metrics=metrics, opt_func=partial(RMSProp, wd=wd)).to_fp16()\n",
    "learn_2.fine_tune(3) \"\"\""
   ]
  },
  {
   "cell_type": "code",
   "execution_count": 17,
   "metadata": {},
   "outputs": [
    {
     "data": {
      "text/plain": [
       "' learn = vision_learner(dls, resnet50, loss_func=FocalLoss(), metrics=metrics, opt_func=partial(ranger, wd=wd)).to_fp16()\\nlearn.fine_tune(3) '"
      ]
     },
     "execution_count": 17,
     "metadata": {},
     "output_type": "execute_result"
    }
   ],
   "source": [
    "\"\"\" learn = vision_learner(dls, resnet50, loss_func=FocalLoss(), metrics=metrics, opt_func=partial(ranger, wd=wd)).to_fp16()\n",
    "learn.fine_tune(3) \"\"\""
   ]
  },
  {
   "cell_type": "markdown",
   "metadata": {},
   "source": [
    "LabelSmoothingBCEWithLogitsLossFlat + оптимизаторы"
   ]
  },
  {
   "cell_type": "code",
   "execution_count": 18,
   "metadata": {},
   "outputs": [],
   "source": [
    "class LabelSmoothingBCEWithLogitsLossFlat(BCEWithLogitsLossFlat):\n",
    "    def __init__(self, smoothing: float = 0.1, thresh: float = 0.2, **kwargs):\n",
    "        super().__init__(thresh=thresh, **kwargs)\n",
    "        self.smoothing = smoothing\n",
    "        self.thresh = thresh\n",
    "    \n",
    "    def __call__(self, inp: torch.Tensor, targ: torch.Tensor, **kwargs) -> torch.Tensor:\n",
    "        targ_smooth = targ.float() * (1. - self.smoothing) + 0.5 * self.smoothing\n",
    "        loss = super().__call__(inp, targ_smooth, **kwargs)\n",
    "        return loss\n",
    "    \n",
    "    def predict(self, inp: torch.Tensor) -> torch.Tensor:\n",
    "        return (torch.sigmoid(inp) > self.thresh).float()\n",
    "    \n",
    "    def __repr__(self) -> str:\n",
    "        return f\"{self.__class__.__name__}(smoothing={self.smoothing}, thresh={self.thresh})\""
   ]
  },
  {
   "cell_type": "code",
   "execution_count": 19,
   "metadata": {},
   "outputs": [
    {
     "data": {
      "text/plain": [
       "' learn = vision_learner(dls, resnet50, loss_func=LabelSmoothingBCEWithLogitsLossFlat(), metrics=metrics, opt_func=partial(Adam, wd=wd)).to_fp16()\\nlearn.fine_tune(3) '"
      ]
     },
     "execution_count": 19,
     "metadata": {},
     "output_type": "execute_result"
    }
   ],
   "source": [
    "\"\"\" learn = vision_learner(dls, resnet50, loss_func=LabelSmoothingBCEWithLogitsLossFlat(), metrics=metrics, opt_func=partial(Adam, wd=wd)).to_fp16()\n",
    "learn.fine_tune(3) \"\"\""
   ]
  },
  {
   "cell_type": "code",
   "execution_count": 20,
   "metadata": {},
   "outputs": [
    {
     "data": {
      "text/plain": [
       "' learn = vision_learner(dls, resnet50, loss_func=LabelSmoothingBCEWithLogitsLossFlat(), metrics=metrics, opt_func=partial(RMSProp, wd=wd)).to_fp16()\\nlearn.fine_tune(3) '"
      ]
     },
     "execution_count": 20,
     "metadata": {},
     "output_type": "execute_result"
    }
   ],
   "source": [
    "\"\"\" learn = vision_learner(dls, resnet50, loss_func=LabelSmoothingBCEWithLogitsLossFlat(), metrics=metrics, opt_func=partial(RMSProp, wd=wd)).to_fp16()\n",
    "learn.fine_tune(3) \"\"\""
   ]
  },
  {
   "cell_type": "code",
   "execution_count": 21,
   "metadata": {},
   "outputs": [
    {
     "data": {
      "text/plain": [
       "' learn = vision_learner(dls, resnet50, loss_func=LabelSmoothingBCEWithLogitsLossFlat(), metrics=metrics, opt_func=partial(ranger, wd=wd)).to_fp16()\\nlearn.fine_tune(3) '"
      ]
     },
     "execution_count": 21,
     "metadata": {},
     "output_type": "execute_result"
    }
   ],
   "source": [
    "\"\"\" learn = vision_learner(dls, resnet50, loss_func=LabelSmoothingBCEWithLogitsLossFlat(), metrics=metrics, opt_func=partial(ranger, wd=wd)).to_fp16()\n",
    "learn.fine_tune(3) \"\"\""
   ]
  },
  {
   "cell_type": "markdown",
   "metadata": {},
   "source": [
    "Изменение параметров wd и thresh"
   ]
  },
  {
   "cell_type": "code",
   "execution_count": 22,
   "metadata": {},
   "outputs": [
    {
     "data": {
      "text/plain": [
       "' WD = [5e-8,5e-7,5e-6,5e-5,5e-9]\\nTHRESH = [0.1,0.15,0.2,0.25,0.05,0.075,0.125]\\nBETA = 2 '"
      ]
     },
     "execution_count": 22,
     "metadata": {},
     "output_type": "execute_result"
    }
   ],
   "source": [
    "\"\"\" WD = [5e-8,5e-7,5e-6,5e-5,5e-9]\n",
    "THRESH = [0.1,0.15,0.2,0.25,0.05,0.075,0.125]\n",
    "BETA = 2 \"\"\"\n"
   ]
  },
  {
   "cell_type": "code",
   "execution_count": 23,
   "metadata": {},
   "outputs": [
    {
     "data": {
      "text/plain": [
       "\" CHOICE = 0\\nmetrics=[FBetaMulti(BETA, THRESH[CHOICE], average='samples'), partial(accuracy_multi, thresh=THRESH[CHOICE])]\\nlearn = vision_learner(dls, resnet50, loss_func=BCEWithLogitsLossFlat(thresh=THRESH[CHOICE]), metrics=metrics, opt_func=partial(RMSProp, wd=WD[0])).to_fp16()\\nlearn.fine_tune(3) \""
      ]
     },
     "execution_count": 23,
     "metadata": {},
     "output_type": "execute_result"
    }
   ],
   "source": [
    "\"\"\" CHOICE = 0\n",
    "metrics=[FBetaMulti(BETA, THRESH[CHOICE], average='samples'), partial(accuracy_multi, thresh=THRESH[CHOICE])]\n",
    "learn = vision_learner(dls, resnet50, loss_func=BCEWithLogitsLossFlat(thresh=THRESH[CHOICE]), metrics=metrics, opt_func=partial(RMSProp, wd=WD[0])).to_fp16()\n",
    "learn.fine_tune(3) \"\"\""
   ]
  },
  {
   "cell_type": "code",
   "execution_count": 24,
   "metadata": {},
   "outputs": [
    {
     "data": {
      "text/plain": [
       "\" CHOICE = 1\\nmetrics=[FBetaMulti(BETA, THRESH[CHOICE], average='samples'), partial(accuracy_multi, thresh=THRESH[CHOICE])]\\nlearn = vision_learner(dls, resnet50, loss_func=BCEWithLogitsLossFlat(thresh=THRESH[CHOICE]), metrics=metrics, opt_func=partial(RMSProp, wd=WD[0])).to_fp16()\\nlearn.fine_tune(3) \""
      ]
     },
     "execution_count": 24,
     "metadata": {},
     "output_type": "execute_result"
    }
   ],
   "source": [
    "\"\"\" CHOICE = 1\n",
    "metrics=[FBetaMulti(BETA, THRESH[CHOICE], average='samples'), partial(accuracy_multi, thresh=THRESH[CHOICE])]\n",
    "learn = vision_learner(dls, resnet50, loss_func=BCEWithLogitsLossFlat(thresh=THRESH[CHOICE]), metrics=metrics, opt_func=partial(RMSProp, wd=WD[0])).to_fp16()\n",
    "learn.fine_tune(3) \"\"\""
   ]
  },
  {
   "cell_type": "code",
   "execution_count": 25,
   "metadata": {},
   "outputs": [
    {
     "data": {
      "text/plain": [
       "\" CHOICE = 2\\nmetrics=[FBetaMulti(BETA, THRESH[CHOICE], average='samples'), partial(accuracy_multi, thresh=THRESH[CHOICE])]\\nlearn = vision_learner(dls, resnet50, loss_func=BCEWithLogitsLossFlat(thresh=THRESH[CHOICE]), metrics=metrics, opt_func=partial(RMSProp, wd=WD[0])).to_fp16()\\nlearn.fine_tune(3) \""
      ]
     },
     "execution_count": 25,
     "metadata": {},
     "output_type": "execute_result"
    }
   ],
   "source": [
    "\"\"\" CHOICE = 2\n",
    "metrics=[FBetaMulti(BETA, THRESH[CHOICE], average='samples'), partial(accuracy_multi, thresh=THRESH[CHOICE])]\n",
    "learn = vision_learner(dls, resnet50, loss_func=BCEWithLogitsLossFlat(thresh=THRESH[CHOICE]), metrics=metrics, opt_func=partial(RMSProp, wd=WD[0])).to_fp16()\n",
    "learn.fine_tune(3) \"\"\""
   ]
  },
  {
   "cell_type": "code",
   "execution_count": 26,
   "metadata": {},
   "outputs": [
    {
     "data": {
      "text/plain": [
       "\" CHOICE = 3\\nmetrics=[FBetaMulti(BETA, THRESH[CHOICE], average='samples'), partial(accuracy_multi, thresh=THRESH[CHOICE])]\\nlearn = vision_learner(dls, resnet50, loss_func=BCEWithLogitsLossFlat(thresh=THRESH[CHOICE]), metrics=metrics, opt_func=partial(RMSProp, wd=WD[0])).to_fp16()\\nlearn.fine_tune(3) \""
      ]
     },
     "execution_count": 26,
     "metadata": {},
     "output_type": "execute_result"
    }
   ],
   "source": [
    "\"\"\" CHOICE = 3\n",
    "metrics=[FBetaMulti(BETA, THRESH[CHOICE], average='samples'), partial(accuracy_multi, thresh=THRESH[CHOICE])]\n",
    "learn = vision_learner(dls, resnet50, loss_func=BCEWithLogitsLossFlat(thresh=THRESH[CHOICE]), metrics=metrics, opt_func=partial(RMSProp, wd=WD[0])).to_fp16()\n",
    "learn.fine_tune(3) \"\"\""
   ]
  },
  {
   "cell_type": "code",
   "execution_count": 27,
   "metadata": {},
   "outputs": [
    {
     "data": {
      "text/plain": [
       "\" CHOICE = 4\\nmetrics=[FBetaMulti(BETA, THRESH[CHOICE], average='samples'), partial(accuracy_multi, thresh=THRESH[CHOICE])]\\nlearn = vision_learner(dls, resnet50, loss_func=BCEWithLogitsLossFlat(thresh=THRESH[CHOICE]), metrics=metrics, opt_func=partial(RMSProp, wd=WD[0])).to_fp16()\\nlearn.fine_tune(3) \""
      ]
     },
     "execution_count": 27,
     "metadata": {},
     "output_type": "execute_result"
    }
   ],
   "source": [
    "\"\"\" CHOICE = 4\n",
    "metrics=[FBetaMulti(BETA, THRESH[CHOICE], average='samples'), partial(accuracy_multi, thresh=THRESH[CHOICE])]\n",
    "learn = vision_learner(dls, resnet50, loss_func=BCEWithLogitsLossFlat(thresh=THRESH[CHOICE]), metrics=metrics, opt_func=partial(RMSProp, wd=WD[0])).to_fp16()\n",
    "learn.fine_tune(3) \"\"\""
   ]
  },
  {
   "cell_type": "code",
   "execution_count": 28,
   "metadata": {},
   "outputs": [
    {
     "data": {
      "text/plain": [
       "\" CHOICE = 5\\nmetrics=[FBetaMulti(BETA, THRESH[CHOICE], average='samples'), partial(accuracy_multi, thresh=THRESH[CHOICE])]\\nlearn = vision_learner(dls, resnet50, loss_func=BCEWithLogitsLossFlat(thresh=THRESH[CHOICE]), metrics=metrics, opt_func=partial(RMSProp, wd=WD[0])).to_fp16()\\nlearn.fine_tune(3) \""
      ]
     },
     "execution_count": 28,
     "metadata": {},
     "output_type": "execute_result"
    }
   ],
   "source": [
    "\"\"\" CHOICE = 5\n",
    "metrics=[FBetaMulti(BETA, THRESH[CHOICE], average='samples'), partial(accuracy_multi, thresh=THRESH[CHOICE])]\n",
    "learn = vision_learner(dls, resnet50, loss_func=BCEWithLogitsLossFlat(thresh=THRESH[CHOICE]), metrics=metrics, opt_func=partial(RMSProp, wd=WD[0])).to_fp16()\n",
    "learn.fine_tune(3) \"\"\""
   ]
  },
  {
   "cell_type": "code",
   "execution_count": 29,
   "metadata": {},
   "outputs": [
    {
     "data": {
      "text/plain": [
       "\" CHOICE = 6\\nmetrics=[FBetaMulti(BETA, THRESH[CHOICE], average='samples'), partial(accuracy_multi, thresh=THRESH[CHOICE])]\\nlearn = vision_learner(dls, resnet50, loss_func=BCEWithLogitsLossFlat(thresh=THRESH[CHOICE]), metrics=metrics, opt_func=partial(RMSProp, wd=WD[0])).to_fp16()\\nlearn.fine_tune(3) \""
      ]
     },
     "execution_count": 29,
     "metadata": {},
     "output_type": "execute_result"
    }
   ],
   "source": [
    "\"\"\" CHOICE = 6\n",
    "metrics=[FBetaMulti(BETA, THRESH[CHOICE], average='samples'), partial(accuracy_multi, thresh=THRESH[CHOICE])]\n",
    "learn = vision_learner(dls, resnet50, loss_func=BCEWithLogitsLossFlat(thresh=THRESH[CHOICE]), metrics=metrics, opt_func=partial(RMSProp, wd=WD[0])).to_fp16()\n",
    "learn.fine_tune(3) \"\"\""
   ]
  },
  {
   "cell_type": "markdown",
   "metadata": {},
   "source": [
    "Different Wd"
   ]
  },
  {
   "cell_type": "code",
   "execution_count": 30,
   "metadata": {},
   "outputs": [
    {
     "data": {
      "text/plain": [
       "\" CHOICE = 0\\nmetrics=[FBetaMulti(BETA, THRESH[6], average='samples'), partial(accuracy_multi, thresh=THRESH[6])]\\nlearn = vision_learner(dls, resnet50, loss_func=BCEWithLogitsLossFlat(thresh=THRESH[6]), metrics=metrics, opt_func=partial(RMSProp, wd=WD[CHOICE])).to_fp16()\\nlearn.fine_tune(3) \""
      ]
     },
     "execution_count": 30,
     "metadata": {},
     "output_type": "execute_result"
    }
   ],
   "source": [
    "\"\"\" CHOICE = 0\n",
    "metrics=[FBetaMulti(BETA, THRESH[6], average='samples'), partial(accuracy_multi, thresh=THRESH[6])]\n",
    "learn = vision_learner(dls, resnet50, loss_func=BCEWithLogitsLossFlat(thresh=THRESH[6]), metrics=metrics, opt_func=partial(RMSProp, wd=WD[CHOICE])).to_fp16()\n",
    "learn.fine_tune(3) \"\"\""
   ]
  },
  {
   "cell_type": "code",
   "execution_count": 31,
   "metadata": {},
   "outputs": [
    {
     "data": {
      "text/plain": [
       "\" CHOICE = 1\\nmetrics=[FBetaMulti(BETA, THRESH[6], average='samples'), partial(accuracy_multi, thresh=THRESH[6])]\\nlearn = vision_learner(dls, resnet50, loss_func=BCEWithLogitsLossFlat(thresh=THRESH[6]), metrics=metrics, opt_func=partial(RMSProp, wd=WD[CHOICE])).to_fp16()\\nlearn.fine_tune(3) \""
      ]
     },
     "execution_count": 31,
     "metadata": {},
     "output_type": "execute_result"
    }
   ],
   "source": [
    "\"\"\" CHOICE = 1\n",
    "metrics=[FBetaMulti(BETA, THRESH[6], average='samples'), partial(accuracy_multi, thresh=THRESH[6])]\n",
    "learn = vision_learner(dls, resnet50, loss_func=BCEWithLogitsLossFlat(thresh=THRESH[6]), metrics=metrics, opt_func=partial(RMSProp, wd=WD[CHOICE])).to_fp16()\n",
    "learn.fine_tune(3) \"\"\""
   ]
  },
  {
   "cell_type": "code",
   "execution_count": 32,
   "metadata": {},
   "outputs": [
    {
     "data": {
      "text/plain": [
       "\" CHOICE = 2\\nmetrics=[FBetaMulti(BETA, THRESH[6], average='samples'), partial(accuracy_multi, thresh=THRESH[6])]\\nlearn = vision_learner(dls, resnet50, loss_func=BCEWithLogitsLossFlat(thresh=THRESH[6]), metrics=metrics, opt_func=partial(RMSProp, wd=WD[CHOICE])).to_fp16()\\nlearn.fine_tune(3) \""
      ]
     },
     "execution_count": 32,
     "metadata": {},
     "output_type": "execute_result"
    }
   ],
   "source": [
    "\"\"\" CHOICE = 2\n",
    "metrics=[FBetaMulti(BETA, THRESH[6], average='samples'), partial(accuracy_multi, thresh=THRESH[6])]\n",
    "learn = vision_learner(dls, resnet50, loss_func=BCEWithLogitsLossFlat(thresh=THRESH[6]), metrics=metrics, opt_func=partial(RMSProp, wd=WD[CHOICE])).to_fp16()\n",
    "learn.fine_tune(3) \"\"\""
   ]
  },
  {
   "cell_type": "code",
   "execution_count": 33,
   "metadata": {},
   "outputs": [
    {
     "data": {
      "text/plain": [
       "\" CHOICE = 3\\nmetrics=[FBetaMulti(BETA, THRESH[6], average='samples'), partial(accuracy_multi, thresh=THRESH[6])]\\nlearn = vision_learner(dls, resnet50, loss_func=BCEWithLogitsLossFlat(thresh=THRESH[6]), metrics=metrics, opt_func=partial(RMSProp, wd=WD[CHOICE])).to_fp16()\\nlearn.fine_tune(3) \""
      ]
     },
     "execution_count": 33,
     "metadata": {},
     "output_type": "execute_result"
    }
   ],
   "source": [
    "\"\"\" CHOICE = 3\n",
    "metrics=[FBetaMulti(BETA, THRESH[6], average='samples'), partial(accuracy_multi, thresh=THRESH[6])]\n",
    "learn = vision_learner(dls, resnet50, loss_func=BCEWithLogitsLossFlat(thresh=THRESH[6]), metrics=metrics, opt_func=partial(RMSProp, wd=WD[CHOICE])).to_fp16()\n",
    "learn.fine_tune(3) \"\"\""
   ]
  },
  {
   "cell_type": "code",
   "execution_count": 34,
   "metadata": {},
   "outputs": [
    {
     "data": {
      "text/plain": [
       "\" CHOICE = 4\\nmetrics=[FBetaMulti(BETA, THRESH[6], average='samples'), partial(accuracy_multi, thresh=THRESH[6])]\\nlearn = vision_learner(dls, resnet50, loss_func=BCEWithLogitsLossFlat(thresh=THRESH[6]), metrics=metrics, opt_func=partial(RMSProp, wd=5e-9)).to_fp16()\\nlearn.fine_tune(3) \""
      ]
     },
     "execution_count": 34,
     "metadata": {},
     "output_type": "execute_result"
    }
   ],
   "source": [
    "\"\"\" CHOICE = 4\n",
    "metrics=[FBetaMulti(BETA, THRESH[6], average='samples'), partial(accuracy_multi, thresh=THRESH[6])]\n",
    "learn = vision_learner(dls, resnet50, loss_func=BCEWithLogitsLossFlat(thresh=THRESH[6]), metrics=metrics, opt_func=partial(RMSProp, wd=5e-9)).to_fp16()\n",
    "learn.fine_tune(3) \"\"\""
   ]
  },
  {
   "cell_type": "markdown",
   "metadata": {},
   "source": [
    "Final"
   ]
  },
  {
   "cell_type": "code",
   "execution_count": 35,
   "metadata": {},
   "outputs": [],
   "source": [
    "dblock = DataBlock(\n",
    "    blocks=(ImageBlock,MultiCategoryBlock),\n",
    "    splitter=RandomSplitter(valid_pct=0.3,seed=42),\n",
    "    get_x=ColReader('path'),\n",
    "    get_y=ColReader('label',label_delim=','),\n",
    "    item_tfms = Resize(224),\n",
    "    batch_tfms=aug_transforms(size=224,\n",
    "                              do_flip=True,\n",
    "                              flip_vert=False,\n",
    "                              max_lighting=0.2,\n",
    "                              max_warp=0.2,\n",
    "                              p_lighting=0.75)\n",
    ")\n",
    "dls = dblock.dataloaders(df, bs=64,shuffle=True)"
   ]
  },
  {
   "cell_type": "code",
   "execution_count": 36,
   "metadata": {},
   "outputs": [],
   "source": [
    "BETA = 2\n",
    "THRESH = 0.125\n",
    "WD = 5e-8\n",
    "metrics=[FBetaMulti(BETA, THRESH, average='samples'),\n",
    "          partial(accuracy_multi, thresh=THRESH)]"
   ]
  },
  {
   "cell_type": "code",
   "execution_count": 37,
   "metadata": {},
   "outputs": [
    {
     "data": {
      "text/html": [
       "\n",
       "<style>\n",
       "    /* Turns off some styling */\n",
       "    progress {\n",
       "        /* gets rid of default border in Firefox and Opera. */\n",
       "        border: none;\n",
       "        /* Needs to be in here for Safari polyfill so background images work as expected. */\n",
       "        background-size: auto;\n",
       "    }\n",
       "    progress:not([value]), progress:not([value])::-webkit-progress-bar {\n",
       "        background: repeating-linear-gradient(45deg, #7e7e7e, #7e7e7e 10px, #5c5c5c 10px, #5c5c5c 20px);\n",
       "    }\n",
       "    .progress-bar-interrupted, .progress-bar-interrupted::-webkit-progress-bar {\n",
       "        background: #F44336;\n",
       "    }\n",
       "</style>\n"
      ],
      "text/plain": [
       "<IPython.core.display.HTML object>"
      ]
     },
     "metadata": {},
     "output_type": "display_data"
    },
    {
     "data": {
      "text/html": [
       "<table border=\"1\" class=\"dataframe\">\n",
       "  <thead>\n",
       "    <tr style=\"text-align: left;\">\n",
       "      <th>epoch</th>\n",
       "      <th>train_loss</th>\n",
       "      <th>valid_loss</th>\n",
       "      <th>fbeta_score</th>\n",
       "      <th>accuracy_multi</th>\n",
       "      <th>time</th>\n",
       "    </tr>\n",
       "  </thead>\n",
       "  <tbody>\n",
       "    <tr>\n",
       "      <td>0</td>\n",
       "      <td>0.022126</td>\n",
       "      <td>0.020884</td>\n",
       "      <td>0.157350</td>\n",
       "      <td>0.994967</td>\n",
       "      <td>57:55</td>\n",
       "    </tr>\n",
       "  </tbody>\n",
       "</table>"
      ],
      "text/plain": [
       "<IPython.core.display.HTML object>"
      ]
     },
     "metadata": {},
     "output_type": "display_data"
    },
    {
     "data": {
      "text/html": [
       "\n",
       "<style>\n",
       "    /* Turns off some styling */\n",
       "    progress {\n",
       "        /* gets rid of default border in Firefox and Opera. */\n",
       "        border: none;\n",
       "        /* Needs to be in here for Safari polyfill so background images work as expected. */\n",
       "        background-size: auto;\n",
       "    }\n",
       "    progress:not([value]), progress:not([value])::-webkit-progress-bar {\n",
       "        background: repeating-linear-gradient(45deg, #7e7e7e, #7e7e7e 10px, #5c5c5c 10px, #5c5c5c 20px);\n",
       "    }\n",
       "    .progress-bar-interrupted, .progress-bar-interrupted::-webkit-progress-bar {\n",
       "        background: #F44336;\n",
       "    }\n",
       "</style>\n"
      ],
      "text/plain": [
       "<IPython.core.display.HTML object>"
      ]
     },
     "metadata": {},
     "output_type": "display_data"
    },
    {
     "data": {
      "text/html": [
       "<table border=\"1\" class=\"dataframe\">\n",
       "  <thead>\n",
       "    <tr style=\"text-align: left;\">\n",
       "      <th>epoch</th>\n",
       "      <th>train_loss</th>\n",
       "      <th>valid_loss</th>\n",
       "      <th>fbeta_score</th>\n",
       "      <th>accuracy_multi</th>\n",
       "      <th>time</th>\n",
       "    </tr>\n",
       "  </thead>\n",
       "  <tbody>\n",
       "    <tr>\n",
       "      <td>0</td>\n",
       "      <td>0.019654</td>\n",
       "      <td>0.018905</td>\n",
       "      <td>0.245897</td>\n",
       "      <td>0.994797</td>\n",
       "      <td>57:39</td>\n",
       "    </tr>\n",
       "    <tr>\n",
       "      <td>1</td>\n",
       "      <td>0.018782</td>\n",
       "      <td>0.018043</td>\n",
       "      <td>0.283665</td>\n",
       "      <td>0.994694</td>\n",
       "      <td>57:49</td>\n",
       "    </tr>\n",
       "    <tr>\n",
       "      <td>2</td>\n",
       "      <td>0.018403</td>\n",
       "      <td>0.017783</td>\n",
       "      <td>0.294880</td>\n",
       "      <td>0.994667</td>\n",
       "      <td>57:59</td>\n",
       "    </tr>\n",
       "  </tbody>\n",
       "</table>"
      ],
      "text/plain": [
       "<IPython.core.display.HTML object>"
      ]
     },
     "metadata": {},
     "output_type": "display_data"
    }
   ],
   "source": [
    "learn_final = vision_learner(dls, resnet50, loss_func=BCEWithLogitsLossFlat(thresh=THRESH), metrics=metrics, opt_func=partial(RMSProp, wd=WD)).to_fp16()\n",
    "learn_final.fine_tune(3)"
   ]
  },
  {
   "cell_type": "code",
   "execution_count": null,
   "metadata": {},
   "outputs": [],
   "source": [
    "learn_final.unfreeze()"
   ]
  },
  {
   "cell_type": "code",
   "execution_count": null,
   "metadata": {},
   "outputs": [],
   "source": [
    "learn_final.lr_find()"
   ]
  },
  {
   "cell_type": "code",
   "execution_count": null,
   "metadata": {},
   "outputs": [],
   "source": [
    "learn_final.fit_one_cycle(8, lr_max=slice(5e-7, 1e-4))"
   ]
  },
  {
   "cell_type": "code",
   "execution_count": null,
   "metadata": {},
   "outputs": [],
   "source": [
    "learn_final.recorder.plot_loss()"
   ]
  },
  {
   "cell_type": "code",
   "execution_count": null,
   "metadata": {},
   "outputs": [],
   "source": [
    "model = learn_final.model\n",
    "model.cpu()\n",
    "torch.save(model, 'attr_resnet50.pkl')\n",
    "\n",
    "learn_final.export(\"attr_resnet50_export.pkl\")\n",
    "\n",
    "with open('attr_resnet50_open.pkl', 'wb') as file:\n",
    "    pickle.dump(learn_final, file)"
   ]
  },
  {
   "cell_type": "code",
   "execution_count": null,
   "metadata": {},
   "outputs": [],
   "source": [
    "learn_final.show_results()"
   ]
  },
  {
   "cell_type": "code",
   "execution_count": null,
   "metadata": {},
   "outputs": [],
   "source": []
  }
 ],
 "metadata": {
  "kernelspec": {
   "display_name": "python_torch_3-9-19",
   "language": "python",
   "name": "python3"
  },
  "language_info": {
   "codemirror_mode": {
    "name": "ipython",
    "version": 3
   },
   "file_extension": ".py",
   "mimetype": "text/x-python",
   "name": "python",
   "nbconvert_exporter": "python",
   "pygments_lexer": "ipython3",
   "version": "3.9.19"
  }
 },
 "nbformat": 4,
 "nbformat_minor": 2
}
